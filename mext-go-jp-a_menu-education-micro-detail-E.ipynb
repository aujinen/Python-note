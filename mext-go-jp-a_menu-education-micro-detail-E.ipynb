{
 "cells": [
  {
   "attachments": {},
   "cell_type": "markdown",
   "metadata": {},
   "source": [
    "**[Ministry of Education, Culture, Sports, Science and Technology (MEXT)/ Teaching materials for teacher training of \"Information-I\" for high school teacher(Japanese)](http://www.mext.go.jp/a_menu/shotou/zyouhou/detail/1416756.htm)**<br>\n",
    "[Modified from \"Chapter 3: Computer and Programming, p.101\" (Japanese)](http://www.mext.go.jp/component/a_menu/education/micro_detail/__icsFiles/afieldfile/2019/10/09/1416758_005.pdf)<br>\n"
   ]
  },
  {
   "cell_type": "code",
   "execution_count": 1,
   "metadata": {},
   "outputs": [],
   "source": [
    "import sys # Call a library of variables and functions"
   ]
  },
  {
   "cell_type": "code",
   "execution_count": 2,
   "metadata": {},
   "outputs": [
    {
     "name": "stdout",
     "output_type": "stream",
     "text": [
      "a= 5 ,  x= 1.7976931348623157e+308\n",
      "a= 5 ,  b= 6 ,  x= 1.7976931348623157e+308 ,  y= 1.7976931348623157e+308\n"
     ]
    }
   ],
   "source": [
    "a = 5 # Assign 5 to a\n",
    "x=sys.float_info.max #Assign the maximum value that can be represented by float type to \"x\"\n",
    "print(\"a=\",a,\",  x=\",x) # Display a and x values on screen\n",
    "b=a+1 # Calculate \"a + 1\" and assign to b\n",
    "y=x+1 # Calculate \"x + 1\" and assign to y\n",
    "print(\"a=\",a,\",  b=\",b,\",  x=\",x,\",  y=\",y) # Display a, b, x and y values ​​on the screen\n",
    "### a and b are different, but is x and y the same? ? ?"
   ]
  },
  {
   "cell_type": "code",
   "execution_count": 3,
   "metadata": {},
   "outputs": [
    {
     "name": "stdout",
     "output_type": "stream",
     "text": [
      "(a==(a+1))= False ,  (x==(x+1))= True\n"
     ]
    }
   ],
   "source": [
    "### Check if adding 1 to x is the same as x.\n",
    "c = (a==(a+1)) # Assign \"True\" to \"c\" if \"a\" and \"a + 1\" are the same, otherwise \"False\"\n",
    "z = (x==(x+1)) # Assign \"True\" to \"z\" if \"x\" and \"x + 1\" are the same, otherwise \"False\"\n",
    "print (\"(a==(a+1))=\",c,\",  (x==(x+1))=\",z)"
   ]
  },
  {
   "cell_type": "code",
   "execution_count": 4,
   "metadata": {},
   "outputs": [
    {
     "name": "stdout",
     "output_type": "stream",
     "text": [
      "x + (1e+289) =  1.7976931348623157e+308\n",
      "x + (1e+290) =  1.7976931348623157e+308\n",
      "x + (1e+291) =  1.7976931348623157e+308\n",
      "x + (1e+292) =  inf\n",
      "x + (1e+293) =  inf\n",
      "x + (1e+294) =  inf\n"
     ]
    }
   ],
   "source": [
    "# Boundary that treats calculation results as infinite\n",
    "print (\"x + (1e+289) = \",x+1e+289)\n",
    "print (\"x + (1e+290) = \",x+1e+290)\n",
    "print (\"x + (1e+291) = \",x+1e+291)\n",
    "print (\"x + (1e+292) = \",x+1e+292)\n",
    "print (\"x + (1e+293) = \",x+1e+293)\n",
    "print (\"x + (1e+294) = \",x+1e+294)"
   ]
  },
  {
   "cell_type": "code",
   "execution_count": null,
   "metadata": {},
   "outputs": [],
   "source": []
  }
 ],
 "metadata": {
  "kernelspec": {
   "display_name": "Python 3",
   "language": "python",
   "name": "python3"
  },
  "language_info": {
   "codemirror_mode": {
    "name": "ipython",
    "version": 3
   },
   "file_extension": ".py",
   "mimetype": "text/x-python",
   "name": "python",
   "nbconvert_exporter": "python",
   "pygments_lexer": "ipython3",
   "version": "3.6.8"
  }
 },
 "nbformat": 4,
 "nbformat_minor": 2
}
