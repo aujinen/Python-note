{
 "cells": [
  {
   "cell_type": "markdown",
   "metadata": {},
   "source": [
    "**[(18 + X) -X = ??? (Python 3.6)]**<br>\n",
    "Modified C source in #26th Nakata's slide<br>\n",
    "[Riken Library (Japanese)](https://www.r-ccs.riken.jp/library/event/tokuronA_2019.html)<br>\n",
    "[Nakata's slide (Japanese)](https://www.r-ccs.riken.jp/wp/wp-content/uploads/2020/09/nakata190523.pdf)"
   ]
  },
  {
   "cell_type": "code",
   "execution_count": 1,
   "metadata": {},
   "outputs": [],
   "source": [
    "### \"18.0\" is expressed as a floating-point number\n",
    "###  Change to an integer notation such as “18” or another floating point number such as “15.0”.\n",
    "\n",
    "a=18.0"
   ]
  },
  {
   "cell_type": "code",
   "execution_count": 2,
   "metadata": {},
   "outputs": [
    {
     "name": "stdout",
     "output_type": "stream",
     "text": [
      "a= 18.0 ,  b = 2^ 45  --> (a+b) -b =  18.0  --- (a == (a+b)-b) =  True\n",
      "a= 18.0 ,  b = 2^ 46  --> (a+b) -b =  18.0  --- (a == (a+b)-b) =  True\n",
      "a= 18.0 ,  b = 2^ 47  --> (a+b) -b =  18.0  --- (a == (a+b)-b) =  True\n",
      "a= 18.0 ,  b = 2^ 48  --> (a+b) -b =  18.0  --- (a == (a+b)-b) =  True\n",
      "a= 18.0 ,  b = 2^ 49  --> (a+b) -b =  18.0  --- (a == (a+b)-b) =  True\n",
      "a= 18.0 ,  b = 2^ 50  --> (a+b) -b =  18.0  --- (a == (a+b)-b) =  True\n",
      "a= 18.0 ,  b = 2^ 51  --> (a+b) -b =  18.0  --- (a == (a+b)-b) =  True\n",
      "a= 18.0 ,  b = 2^ 52  --> (a+b) -b =  18.0  --- (a == (a+b)-b) =  True\n",
      "a= 18.0 ,  b = 2^ 53  --> (a+b) -b =  18.0  --- (a == (a+b)-b) =  True\n",
      "a= 18.0 ,  b = 2^ 54  --> (a+b) -b =  16.0  --- (a == (a+b)-b) =  False\n",
      "a= 18.0 ,  b = 2^ 55  --> (a+b) -b =  16.0  --- (a == (a+b)-b) =  False\n",
      "a= 18.0 ,  b = 2^ 56  --> (a+b) -b =  16.0  --- (a == (a+b)-b) =  False\n",
      "a= 18.0 ,  b = 2^ 57  --> (a+b) -b =  32.0  --- (a == (a+b)-b) =  False\n",
      "a= 18.0 ,  b = 2^ 58  --> (a+b) -b =  0.0  --- (a == (a+b)-b) =  False\n",
      "a= 18.0 ,  b = 2^ 59  --> (a+b) -b =  0.0  --- (a == (a+b)-b) =  False\n",
      "a= 18.0 ,  b = 2^ 60  --> (a+b) -b =  0.0  --- (a == (a+b)-b) =  False\n",
      "a= 18.0 ,  b = 2^ 61  --> (a+b) -b =  0.0  --- (a == (a+b)-b) =  False\n",
      "a= 18.0 ,  b = 2^ 62  --> (a+b) -b =  0.0  --- (a == (a+b)-b) =  False\n",
      "a= 18.0 ,  b = 2^ 63  --> (a+b) -b =  0.0  --- (a == (a+b)-b) =  False\n",
      "a= 18.0 ,  b = 2^ 64  --> (a+b) -b =  0.0  --- (a == (a+b)-b) =  False\n"
     ]
    }
   ],
   "source": [
    "for i in range(45,65):\n",
    "    b = 2**i #--- Enter a power of 2 (45 to 64) for \"b\"\n",
    "    c = (a+b)-b #--- The calculation result of “(a + b) -b” is entered in “c”.\n",
    "    print (\"a=\",a,\",  b = 2^\",i,\" --> (a+b) -b = \",c,\" --- (a == (a+b)-b) = \",a==c)\n",
    "    # Displays the value of \"a\", \"b\", \"(a + b) -b\" calculation result (= \"c\" value),\n",
    "    # and \"whether 'a' and 'c' are the same.\""
   ]
  },
  {
   "cell_type": "code",
   "execution_count": null,
   "metadata": {},
   "outputs": [],
   "source": []
  }
 ],
 "metadata": {
  "kernelspec": {
   "display_name": "Python 3",
   "language": "python",
   "name": "python3"
  },
  "language_info": {
   "codemirror_mode": {
    "name": "ipython",
    "version": 3
   },
   "file_extension": ".py",
   "mimetype": "text/x-python",
   "name": "python",
   "nbconvert_exporter": "python",
   "pygments_lexer": "ipython3",
   "version": "3.6.8"
  }
 },
 "nbformat": 4,
 "nbformat_minor": 2
}
