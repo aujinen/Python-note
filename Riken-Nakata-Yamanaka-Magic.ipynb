{
 "cells": [
  {
   "cell_type": "markdown",
   "metadata": {},
   "source": [
    "**[18に同じ数を足して引いたら、どんな値になる？(Python 3.6版)]**<br>\n",
    "下記資料のスライド＃26のCで記述された版を改変<br>\n",
    "[配信講義　計算科学技術特論A (2019) (4月11日～7月25日)](https://www.r-ccs.riken.jp/library/event/tokuronA_2019.html)<br>\n",
    "[第6回 5月23日 線形代数演算ライブラリBLASとLAPACKの基礎と実践１ 中田真秀（理研）](https://www.r-ccs.riken.jp/wp-content/uploads/2019/05/nakata190523.pdf)<br>\n"
   ]
  },
  {
   "cell_type": "code",
   "execution_count": 1,
   "metadata": {},
   "outputs": [],
   "source": [
    "### 「18.0」は浮動小数点数としての表記\n",
    "###  「18」と整数表記に変えてみたり、「15.0」等の別の浮動小数点数に変えて実行してみましょう。\n",
    "\n",
    "a=18.0"
   ]
  },
  {
   "cell_type": "code",
   "execution_count": 2,
   "metadata": {},
   "outputs": [
    {
     "name": "stdout",
     "output_type": "stream",
     "text": [
      "a= 18.0 ,  b = 2^ 45  --> (a+b) -b =  18.0  --- (a == (a+b)-b) =  True\n",
      "a= 18.0 ,  b = 2^ 46  --> (a+b) -b =  18.0  --- (a == (a+b)-b) =  True\n",
      "a= 18.0 ,  b = 2^ 47  --> (a+b) -b =  18.0  --- (a == (a+b)-b) =  True\n",
      "a= 18.0 ,  b = 2^ 48  --> (a+b) -b =  18.0  --- (a == (a+b)-b) =  True\n",
      "a= 18.0 ,  b = 2^ 49  --> (a+b) -b =  18.0  --- (a == (a+b)-b) =  True\n",
      "a= 18.0 ,  b = 2^ 50  --> (a+b) -b =  18.0  --- (a == (a+b)-b) =  True\n",
      "a= 18.0 ,  b = 2^ 51  --> (a+b) -b =  18.0  --- (a == (a+b)-b) =  True\n",
      "a= 18.0 ,  b = 2^ 52  --> (a+b) -b =  18.0  --- (a == (a+b)-b) =  True\n",
      "a= 18.0 ,  b = 2^ 53  --> (a+b) -b =  18.0  --- (a == (a+b)-b) =  True\n",
      "a= 18.0 ,  b = 2^ 54  --> (a+b) -b =  16.0  --- (a == (a+b)-b) =  False\n",
      "a= 18.0 ,  b = 2^ 55  --> (a+b) -b =  16.0  --- (a == (a+b)-b) =  False\n",
      "a= 18.0 ,  b = 2^ 56  --> (a+b) -b =  16.0  --- (a == (a+b)-b) =  False\n",
      "a= 18.0 ,  b = 2^ 57  --> (a+b) -b =  32.0  --- (a == (a+b)-b) =  False\n",
      "a= 18.0 ,  b = 2^ 58  --> (a+b) -b =  0.0  --- (a == (a+b)-b) =  False\n",
      "a= 18.0 ,  b = 2^ 59  --> (a+b) -b =  0.0  --- (a == (a+b)-b) =  False\n",
      "a= 18.0 ,  b = 2^ 60  --> (a+b) -b =  0.0  --- (a == (a+b)-b) =  False\n",
      "a= 18.0 ,  b = 2^ 61  --> (a+b) -b =  0.0  --- (a == (a+b)-b) =  False\n",
      "a= 18.0 ,  b = 2^ 62  --> (a+b) -b =  0.0  --- (a == (a+b)-b) =  False\n",
      "a= 18.0 ,  b = 2^ 63  --> (a+b) -b =  0.0  --- (a == (a+b)-b) =  False\n",
      "a= 18.0 ,  b = 2^ 64  --> (a+b) -b =  0.0  --- (a == (a+b)-b) =  False\n"
     ]
    }
   ],
   "source": [
    "for i in range(45,65):\n",
    "    b = 2**i #--- 「b」に、2の累乗（45乗から64乗まで）を順に入れていく\n",
    "    c = (a+b)-b #--- 「c」に、(a+b)-bの計算結果を入れる。\n",
    "    print (\"a=\",a,\",  b = 2^\",i,\" --> (a+b) -b = \",c,\" --- (a == (a+b)-b) = \",a==c)\n",
    "    # 「a」の値、「b」の値、「(a+b)-b」の計算結果（=「c」の値）、「a」の値と「c」の値が同じかどうか判定を表示"
   ]
  },
  {
   "cell_type": "code",
   "execution_count": null,
   "metadata": {},
   "outputs": [],
   "source": []
  }
 ],
 "metadata": {
  "kernelspec": {
   "display_name": "Python 3",
   "language": "python",
   "name": "python3"
  },
  "language_info": {
   "codemirror_mode": {
    "name": "ipython",
    "version": 3
   },
   "file_extension": ".py",
   "mimetype": "text/x-python",
   "name": "python",
   "nbconvert_exporter": "python",
   "pygments_lexer": "ipython3",
   "version": "3.6.8"
  }
 },
 "nbformat": 4,
 "nbformat_minor": 2
}
