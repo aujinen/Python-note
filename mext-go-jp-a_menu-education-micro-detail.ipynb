{
 "cells": [
  {
   "attachments": {},
   "cell_type": "markdown",
   "metadata": {},
   "source": [
    "**[文部科学省・高等学校情報科「情報Ⅰ」教員研修用教材（本編）](http://www.mext.go.jp/a_menu/shotou/zyouhou/detail/1416756.htm)**<br>\n",
    "[第3章コンピュータとプログラミングp.101を参考とし、改変](http://www.mext.go.jp/component/a_menu/education/micro_detail/__icsFiles/afieldfile/2019/10/09/1416758_005.pdf)<br>\n"
   ]
  },
  {
   "cell_type": "code",
   "execution_count": 1,
   "metadata": {},
   "outputs": [],
   "source": [
    "import sys # 変数や関数のライブラリを呼び出し"
   ]
  },
  {
   "cell_type": "code",
   "execution_count": 2,
   "metadata": {},
   "outputs": [
    {
     "name": "stdout",
     "output_type": "stream",
     "text": [
      "a= 5 ,  x= 1.7976931348623157e+308\n",
      "a= 5 ,  b= 6 ,  x= 1.7976931348623157e+308 ,  y= 1.7976931348623157e+308\n"
     ]
    }
   ],
   "source": [
    "a = 5 # aに５を代入\n",
    "x=sys.float_info.max #float 型で表せる最大値を x に代入\n",
    "print(\"a=\",a,\",  x=\",x) # 画面に aとx の値を表示\n",
    "b=a+1 # bにa+1を計算して代入\n",
    "y=x+1 # yにx+1を計算して代入\n",
    "print(\"a=\",a,\",  b=\",b,\",  x=\",x,\",  y=\",y) # 画面に a,b,x,yの値を表示\n",
    "### aとbが異なるが、xとyは同じ？？？"
   ]
  },
  {
   "cell_type": "code",
   "execution_count": 3,
   "metadata": {},
   "outputs": [
    {
     "name": "stdout",
     "output_type": "stream",
     "text": [
      "(a==(a+1))= False ,  (x==(x+1))= True\n"
     ]
    }
   ],
   "source": [
    "### xに1を足してもxと同じなのかどうかを確認する。\n",
    "c = (a==(a+1)) # aと、a+1が同じであれば「True」、異なっていれば「False」をcに代入\n",
    "z = (x==(x+1)) # xと、x+1が同じであれば「True」、異なっていれば「False」をzに代入\n",
    "print (\"(a==(a+1))=\",c,\",  (x==(x+1))=\",z)"
   ]
  },
  {
   "cell_type": "code",
   "execution_count": 4,
   "metadata": {},
   "outputs": [
    {
     "name": "stdout",
     "output_type": "stream",
     "text": [
      "x + (1e+289) =  1.7976931348623157e+308\n",
      "x + (1e+290) =  1.7976931348623157e+308\n",
      "x + (1e+291) =  1.7976931348623157e+308\n",
      "x + (1e+292) =  inf\n",
      "x + (1e+293) =  inf\n",
      "x + (1e+294) =  inf\n"
     ]
    }
   ],
   "source": [
    "# 計算結果を無限大として扱う境界\n",
    "print (\"x + (1e+289) = \",x+1e+289)\n",
    "print (\"x + (1e+290) = \",x+1e+290)\n",
    "print (\"x + (1e+291) = \",x+1e+291)\n",
    "print (\"x + (1e+292) = \",x+1e+292)\n",
    "print (\"x + (1e+293) = \",x+1e+293)\n",
    "print (\"x + (1e+294) = \",x+1e+294)"
   ]
  },
  {
   "cell_type": "code",
   "execution_count": null,
   "metadata": {},
   "outputs": [],
   "source": []
  }
 ],
 "metadata": {
  "kernelspec": {
   "display_name": "Python 3",
   "language": "python",
   "name": "python3"
  },
  "language_info": {
   "codemirror_mode": {
    "name": "ipython",
    "version": 3
   },
   "file_extension": ".py",
   "mimetype": "text/x-python",
   "name": "python",
   "nbconvert_exporter": "python",
   "pygments_lexer": "ipython3",
   "version": "3.6.8"
  }
 },
 "nbformat": 4,
 "nbformat_minor": 2
}
