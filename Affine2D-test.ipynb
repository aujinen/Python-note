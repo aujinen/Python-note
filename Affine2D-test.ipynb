{
 "cells": [
  {
   "cell_type": "code",
   "execution_count": null,
   "metadata": {},
   "outputs": [],
   "source": [
    "import matplotlib.pyplot as plt \n",
    "import numpy as np"
   ]
  },
  {
   "cell_type": "code",
   "execution_count": null,
   "metadata": {},
   "outputs": [],
   "source": [
    "#define the rotation matrix\n",
    "def get_rotation_matrix(rad):\n",
    "    \"\"\" \n",
    "    returns the rotation matrix with rotation angle \"rad\"\n",
    "    \"\"\"\n",
    "    rot = np.array([[np.cos(rad), -np.sin(rad)],\n",
    "                  [np.sin(rad), np.cos(rad)]])\n",
    "    return rot"
   ]
  },
  {
   "cell_type": "code",
   "execution_count": null,
   "metadata": {},
   "outputs": [],
   "source": [
    "# set first point\n",
    "base_point = np.array([1, 0]) \n",
    "x_points = []\n",
    "y_points = []"
   ]
  },
  {
   "cell_type": "code",
   "execution_count": null,
   "metadata": {},
   "outputs": [],
   "source": [
    "#Find a point rotated by 30 degrees.\n",
    "for i in range(0, 5): #--- Parameter of \"i\" changes as \"0,1,2,3,4\". Try changing it to range(-2,3) etc.\n",
    "    deg = i * 30 #--- It is set to rotate in 30 degree increments. Try changing \"30\" to another number and let it run.\n",
    "    rad = deg * np.pi / 180\n",
    "    rot = get_rotation_matrix(rad)\n",
    "    rotated = np.dot(rot, base_point)\n",
    "    x_points.append(rotated[0])\n",
    "    y_points.append(rotated[1])"
   ]
  },
  {
   "cell_type": "code",
   "execution_count": null,
   "metadata": {},
   "outputs": [],
   "source": [
    "# Configure graph settings\n",
    "plt.axes().set_aspect('equal', 'datalim')\n",
    "plt.grid()\n",
    "plt.xticks([-1, 0, 1])\n",
    "plt.yticks([-1, 0, 1]) \n",
    "#Show point after rotate operation\n",
    "plt.scatter(x_points, y_points)\n",
    "plt.show()"
   ]
  },
  {
   "cell_type": "code",
   "execution_count": null,
   "metadata": {},
   "outputs": [],
   "source": []
  }
 ],
 "metadata": {
  "kernelspec": {
   "display_name": "Python 3",
   "language": "python",
   "name": "python3"
  },
  "language_info": {
   "codemirror_mode": {
    "name": "ipython",
    "version": 3
   },
   "file_extension": ".py",
   "mimetype": "text/x-python",
   "name": "python",
   "nbconvert_exporter": "python",
   "pygments_lexer": "ipython3",
   "version": "3.6.8"
  }
 },
 "nbformat": 4,
 "nbformat_minor": 2
}
