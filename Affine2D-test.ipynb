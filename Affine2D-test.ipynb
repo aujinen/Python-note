{
 "cells": [
  {
   "cell_type": "code",
   "execution_count": null,
   "metadata": {},
   "outputs": [],
   "source": [
    "import matplotlib.pyplot as plt \n",
    "import numpy as np"
   ]
  },
  {
   "cell_type": "code",
   "execution_count": null,
   "metadata": {},
   "outputs": [],
   "source": [
    "#回転行列を定義する\n",
    "def get_rotation_matrix(rad):\n",
    "    \"\"\" \n",
    "    指定したradの回転行列を返す\n",
    "    \"\"\"\n",
    "    rot = np.array([[np.cos(rad), -np.sin(rad)],\n",
    "                  [np.sin(rad), np.cos(rad)]])\n",
    "    return rot"
   ]
  },
  {
   "cell_type": "code",
   "execution_count": null,
   "metadata": {},
   "outputs": [],
   "source": [
    "# 元の点を設定\n",
    "base_point = np.array([1, 0]) \n",
    "x_points = []\n",
    "y_points = []"
   ]
  },
  {
   "cell_type": "code",
   "execution_count": null,
   "metadata": {},
   "outputs": [],
   "source": [
    "#0度から30度単位で回転させた点を求める。\n",
    "for i in range(0, 5): #--- iは、「0,1,2,3,4」と変化します。range(-２,３)などと変化させてみてください。\n",
    "    deg = i * 30 #--- 30度単位での回転の設定としていますが、「30」を別の数字に変更して実行させてみてください。\n",
    "    rad = deg * np.pi / 180\n",
    "    rot = get_rotation_matrix(rad)\n",
    "    rotated = np.dot(rot, base_point)\n",
    "    x_points.append(rotated[0])\n",
    "    y_points.append(rotated[1])"
   ]
  },
  {
   "cell_type": "code",
   "execution_count": null,
   "metadata": {},
   "outputs": [],
   "source": [
    "# グラフの設定を行う\n",
    "plt.axes().set_aspect('equal', 'datalim')\n",
    "plt.grid()\n",
    "plt.xticks([-1, 0, 1])\n",
    "plt.yticks([-1, 0, 1]) \n",
    "#回転操作後の点を表示\n",
    "plt.scatter(x_points, y_points)\n",
    "plt.show()"
   ]
  },
  {
   "cell_type": "code",
   "execution_count": null,
   "metadata": {},
   "outputs": [],
   "source": []
  }
 ],
 "metadata": {
  "kernelspec": {
   "display_name": "Python 3",
   "language": "python",
   "name": "python3"
  },
  "language_info": {
   "codemirror_mode": {
    "name": "ipython",
    "version": 3
   },
   "file_extension": ".py",
   "mimetype": "text/x-python",
   "name": "python",
   "nbconvert_exporter": "python",
   "pygments_lexer": "ipython3",
   "version": "3.6.8"
  }
 },
 "nbformat": 4,
 "nbformat_minor": 2
}
